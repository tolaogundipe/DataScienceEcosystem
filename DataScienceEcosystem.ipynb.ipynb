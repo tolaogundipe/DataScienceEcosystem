{
 "cells": [
  {
   "cell_type": "markdown",
   "id": "6e96b7a4-a2e2-4cae-841c-d0eecd0d6272",
   "metadata": {},
   "source": [
    "# Data Science Tools and Ecosystem"
   ]
  },
  {
   "cell_type": "markdown",
   "id": "8cc25a64-60d3-4599-964a-601d6c05e22c",
   "metadata": {},
   "source": [
    "In this notebook, Data Science Tools and Ecosystem are summarized."
   ]
  },
  {
   "cell_type": "markdown",
   "id": "251ea0a7-712c-4963-ba44-d17eba51d5bd",
   "metadata": {},
   "source": [
    "**Objectives:**\n",
    "\n",
    "- List popular languages for Data Science\n",
    "- List popular libraries for Data Science\n",
    "- Perform basic arithmetic operations in Python\n",
    "- Convert units of time from minutes to hours\n",
    "- Create tables using markdown\n"
   ]
  },
  {
   "cell_type": "markdown",
   "id": "bbc2719f-9d22-48f1-90af-54d68c4b446d",
   "metadata": {},
   "source": [
    "Some of the popular languages that Data Scientists use are:"
   ]
  },
  {
   "cell_type": "markdown",
   "id": "882fa888-8c08-42a1-86e7-52a45890b081",
   "metadata": {},
   "source": [
    "1. Python\n",
    "2. R\n",
    "3. SQL\n",
    "4. Java\n"
   ]
  },
  {
   "cell_type": "markdown",
   "id": "9542a60d-fd5a-4afd-9d48-0694ad6a9d8e",
   "metadata": {},
   "source": [
    "Some of the commonly used libraries used by Data Scientists include:"
   ]
  },
  {
   "cell_type": "markdown",
   "id": "173a6139-1b7f-422f-ac4f-a2e5cce30b09",
   "metadata": {},
   "source": [
    "1. NumPy\n",
    "2. Matplotlib\n",
    "3. Pandas\n",
    "4. Seaborn"
   ]
  },
  {
   "cell_type": "markdown",
   "id": "9a40d88e-e2a0-42b8-bdb1-684e8d1f0db2",
   "metadata": {},
   "source": [
    "| Data Science Tools           |\n",
    "|------------------------------|\n",
    "| Jupyter Notebooks             |\n",
    "| RStudio                       |\n",
    "| Apache Zeppelin               |\n"
   ]
  },
  {
   "cell_type": "markdown",
   "id": "d94d7965-846f-4f35-b365-fdb585e88750",
   "metadata": {},
   "source": [
    "### Below are a few examples of evaluating arithmetic expressions in Python"
   ]
  },
  {
   "cell_type": "code",
   "execution_count": 1,
   "id": "944cba02-bf6e-475a-b58b-670d9cb76d3a",
   "metadata": {
    "tags": []
   },
   "outputs": [
    {
     "data": {
      "text/plain": [
       "17"
      ]
     },
     "execution_count": 1,
     "metadata": {},
     "output_type": "execute_result"
    }
   ],
   "source": [
    "# This is a simple arithmetic expression to multiply then add integers\n",
    "(3 * 4) + 5"
   ]
  },
  {
   "cell_type": "code",
   "execution_count": 2,
   "id": "ffaea5b7-ed54-4702-9cbf-0a88ed6b6a5e",
   "metadata": {
    "tags": []
   },
   "outputs": [
    {
     "data": {
      "text/plain": [
       "3.3333333333333335"
      ]
     },
     "execution_count": 2,
     "metadata": {},
     "output_type": "execute_result"
    }
   ],
   "source": [
    "# This will convert 200 minutes to hours by dividing by 60\n",
    "200 / 60"
   ]
  },
  {
   "cell_type": "markdown",
   "id": "568b1d54-811f-49cb-82b1-af57a896c17c",
   "metadata": {},
   "source": [
    "## Author\n",
    "\n",
    "Adetola\n"
   ]
  },
  {
   "cell_type": "code",
   "execution_count": null,
   "id": "4e683788-3661-45ca-a09f-3be55128eb4d",
   "metadata": {},
   "outputs": [],
   "source": []
  }
 ],
 "metadata": {
  "kernelspec": {
   "display_name": "Python",
   "language": "python",
   "name": "conda-env-python-py"
  },
  "language_info": {
   "codemirror_mode": {
    "name": "ipython",
    "version": 3
   },
   "file_extension": ".py",
   "mimetype": "text/x-python",
   "name": "python",
   "nbconvert_exporter": "python",
   "pygments_lexer": "ipython3",
   "version": "3.7.12"
  }
 },
 "nbformat": 4,
 "nbformat_minor": 5
}
